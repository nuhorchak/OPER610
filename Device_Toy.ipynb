{
 "cells": [
  {
   "cell_type": "code",
   "execution_count": 3,
   "metadata": {
    "collapsed": false,
    "scrolled": true
   },
   "outputs": [
    {
     "name": "stdout",
     "output_type": "stream",
     "text": [
      "n1 = 2.0\n",
      "n2 = 1.0\n",
      "n3 = 0.0\n",
      "n4 = 0.0\n",
      "n5 = 0.0\n"
     ]
    }
   ],
   "source": [
    "from pulp import *\n",
    "\n",
    "prob = pulp.LpProblem(\"example\", pulp.LpMinimize)\n",
    "\n",
    "# Variable represent number of times device i is used\n",
    "n1 = pulp.LpVariable(\"n1\", 0, 5, cat=\"Integer\")\n",
    "n2 = pulp.LpVariable(\"n2\", 0, 5, cat=\"Integer\")\n",
    "n3 = pulp.LpVariable(\"n3\", 0, 5, cat=\"Integer\")\n",
    "n4 = pulp.LpVariable(\"n4\", 0, 5, cat=\"Integer\")\n",
    "n5 = pulp.LpVariable(\"n5\", 0, 5, cat=\"Integer\")\n",
    "\n",
    "# Device params\n",
    "Device1=[8,8,4,4,200]\n",
    "Device2=[16,0,16,0,250]\n",
    "Device3=[8,0,4,4,300]\n",
    "Device4=[16,8,4,4,300]\n",
    "Device5=[8,8,2,2,150]\n",
    "\n",
    "# The objective function that we want to minimize: the total cost\n",
    "prob += n1 * Device1[-1] + n2 * Device2[-1] + n3 * Device3[-1] + n4 * Device4[-1] + n5 * Device5[-1]\n",
    "\n",
    "# Constraint that we use no more than 5 devices\n",
    "prob += n1 + n2 + n3 + n4 + n5 <= 5\n",
    "\n",
    "Target = [24, 12, 16, 8]\n",
    "\n",
    "# Constraint that the total I/O for all devices exceeds the target\n",
    "for i in range(4):\n",
    "    prob += n1 * Device1[i] + n2 * Device2[i] + n3 * Device3[i] + n4 * Device4[i] + n5 * Device5[i] >= Target[i]\n",
    "\n",
    "# Actually solve the problem, this calls GLPK so you need it installed\n",
    "prob.solve()\n",
    "\n",
    "# Print out the results\n",
    "for v in prob.variables():\n",
    "    print v.name, \"=\", v.varValue"
   ]
  },
  {
   "cell_type": "code",
   "execution_count": null,
   "metadata": {
    "collapsed": true
   },
   "outputs": [],
   "source": []
  },
  {
   "cell_type": "code",
   "execution_count": null,
   "metadata": {
    "collapsed": true
   },
   "outputs": [],
   "source": []
  }
 ],
 "metadata": {
  "anaconda-cloud": {},
  "kernelspec": {
   "display_name": "Python [default]",
   "language": "python",
   "name": "python2"
  },
  "language_info": {
   "codemirror_mode": {
    "name": "ipython",
    "version": 2
   },
   "file_extension": ".py",
   "mimetype": "text/x-python",
   "name": "python",
   "nbconvert_exporter": "python",
   "pygments_lexer": "ipython2",
   "version": "2.7.12"
  }
 },
 "nbformat": 4,
 "nbformat_minor": 1
}
